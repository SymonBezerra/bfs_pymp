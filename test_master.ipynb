{
 "cells": [
  {
   "cell_type": "code",
   "execution_count": 1,
   "metadata": {},
   "outputs": [],
   "source": [
    "from master import Master"
   ]
  },
  {
   "cell_type": "code",
   "execution_count": 2,
   "metadata": {},
   "outputs": [],
   "source": [
    "server = Master('0.0.0.0', 4999)\n",
    "\n",
    "# server.add_thread('192.168.18.21', 5000)\n",
    "# server.add_thread('192.168.18.17', 5000)\n",
    "server.add_thread('127.0.0.1', 5004)\n",
    "server.add_thread('127.0.0.1', 5000)\n",
    "server.add_thread('127.0.0.1', 5006)\n",
    "server.add_thread('127.0.0.1', 5008)"
   ]
  },
  {
   "cell_type": "code",
   "execution_count": 3,
   "metadata": {},
   "outputs": [],
   "source": [
    "# for i in range(10): server.add_node(str(i))\n",
    "\n",
    "with open('./twitter_combined.txt') as f:\n",
    "    for line in f:\n",
    "        u, v = line.strip().split()\n",
    "        server.add_node(u)\n",
    "        server.add_node(v)"
   ]
  },
  {
   "cell_type": "code",
   "execution_count": 4,
   "metadata": {},
   "outputs": [
    {
     "name": "stderr",
     "output_type": "stream",
     "text": [
      "2025-01-06 16:31:47,023 - root - INFO - Sending nodes to ('127.0.0.1', 5004)\n",
      "2025-01-06 16:31:47,077 - root - INFO - Sending nodes to ('127.0.0.1', 5000)\n",
      "2025-01-06 16:31:47,143 - root - INFO - Sending nodes to ('127.0.0.1', 5006)\n",
      "2025-01-06 16:31:47,195 - root - INFO - Sending nodes to ('127.0.0.1', 5008)\n",
      "2025-01-06 16:31:47,242 - root - INFO - Sending edges to ('127.0.0.1', 5004)\n",
      "2025-01-06 16:31:48,759 - root - INFO - Sending edges to ('127.0.0.1', 5000)\n",
      "2025-01-06 16:31:50,666 - root - INFO - Sending edges to ('127.0.0.1', 5006)\n",
      "2025-01-06 16:31:52,229 - root - INFO - Sending edges to ('127.0.0.1', 5008)\n"
     ]
    }
   ],
   "source": [
    "# import itertools\n",
    "# pairs = list(itertools.combinations(nodes, 2))\n",
    "# print(len(pairs))\n",
    "# for p in pairs: server.add_edge(*p)\n",
    "\n",
    "# server.add_edge('0', '1')\n",
    "# server.add_edge('0', '2')\n",
    "# server.add_edge('0', '3')\n",
    "# server.add_edge('0', '4')\n",
    "# server.add_edge('1', '3')\n",
    "# server.add_edge('1', '4')\n",
    "# server.add_edge('1', '2')\n",
    "# server.add_edge('1', '0')\n",
    "# server.add_edge('2', '1')\n",
    "# server.add_edge('2', '3')\n",
    "# server.add_edge('3', '4')\n",
    "# server.add_edge('3', '0')\n",
    "# server.add_edge('3', '1')\n",
    "# server.add_edge('3', '5')\n",
    "# server.add_edge('3', '6')\n",
    "# server.add_edge('3', '7')\n",
    "# server.add_edge('4', '0')\n",
    "# server.add_edge('4', '1')\n",
    "# server.add_edge('4', '6')\n",
    "# server.add_edge('5', '7')\n",
    "# server.add_edge('2', '5')\n",
    "# server.add_edge('5', '8')\n",
    "# server.add_edge('8', '9')\n",
    "# server.add_edge('9', '5')\n",
    "# server.add_edge('9', '7')\n",
    "\n",
    "server.load_file('./twitter_combined.txt')"
   ]
  },
  {
   "cell_type": "code",
   "execution_count": 8,
   "metadata": {},
   "outputs": [
    {
     "name": "stdout",
     "output_type": "stream",
     "text": [
      "Time taken for BFS operation: 2.0999059677124023 seconds\n"
     ]
    },
    {
     "data": {
      "text/plain": [
       "73968"
      ]
     },
     "execution_count": 8,
     "metadata": {},
     "output_type": "execute_result"
    }
   ],
   "source": [
    "import time\n",
    "\n",
    "start_time = time.time()\n",
    "tree = server.bfs('222261763')\n",
    "# tree = server.bfs('0')\n",
    "end_time = time.time()\n",
    "\n",
    "print(f\"Time taken for BFS operation: {end_time - start_time} seconds\")\n",
    "len(tree)"
   ]
  },
  {
   "cell_type": "code",
   "execution_count": 6,
   "metadata": {},
   "outputs": [],
   "source": [
    "# server.restart_threads()"
   ]
  }
 ],
 "metadata": {
  "kernelspec": {
   "display_name": "venv",
   "language": "python",
   "name": "python3"
  },
  "language_info": {
   "codemirror_mode": {
    "name": "ipython",
    "version": 3
   },
   "file_extension": ".py",
   "mimetype": "text/x-python",
   "name": "python",
   "nbconvert_exporter": "python",
   "pygments_lexer": "ipython3",
   "version": "3.12.3"
  }
 },
 "nbformat": 4,
 "nbformat_minor": 2
}
