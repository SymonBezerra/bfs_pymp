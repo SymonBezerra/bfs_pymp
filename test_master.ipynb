{
 "cells": [
  {
   "cell_type": "code",
   "execution_count": 1,
   "metadata": {},
   "outputs": [],
   "source": [
    "from master import Master"
   ]
  },
  {
   "cell_type": "code",
   "execution_count": 2,
   "metadata": {},
   "outputs": [],
   "source": [
    "server = Master('0.0.0.0', 5000)\n",
    "\n",
    "# server.add_thread('192.168.18.17', 5001)\n",
    "# server.add_thread('192.168.18.21', 5001)\n",
    "\n",
    "server.add_thread('0.0.0.0', 5001)\n",
    "server.add_thread('0.0.0.0', 5002)\n",
    "# server.add_thread('0.0.0.0', 5003)\n",
    "# server.add_thread('0.0.0.0', 5004)\n",
    "# server.add_thread('0.0.0.0', 5007)\n",
    "\n",
    "server.set_opt('node_batch', 1000)\n",
    "server.set_opt('edge_batch', 1000)\n"
   ]
  },
  {
   "cell_type": "code",
   "execution_count": 3,
   "metadata": {},
   "outputs": [],
   "source": [
    "server.restart_threads()"
   ]
  },
  {
   "cell_type": "code",
   "execution_count": 4,
   "metadata": {},
   "outputs": [],
   "source": [
    "# G = server.load_file('./facebook_combined.txt')"
   ]
  },
  {
   "cell_type": "code",
   "execution_count": 5,
   "metadata": {},
   "outputs": [],
   "source": [
    "# import time\n",
    "\n",
    "# start_time = time.time()\n",
    "# # tree = G.bfs('116374117927631468606')\n",
    "# # tree = G.bfs('214328887')\n",
    "# tree = G.bfs('0')\n",
    "# end_time = time.time()\n",
    "\n",
    "# print(f\"Time taken for BFS operation: {end_time - start_time} seconds\")\n",
    "# len(tree)"
   ]
  },
  {
   "cell_type": "code",
   "execution_count": 6,
   "metadata": {},
   "outputs": [],
   "source": [
    "from graph import DistGraph\n",
    "\n",
    "G2 = DistGraph(server)\n",
    "\n",
    "for i in range(10): G2.add_node(str(i))\n",
    "\n",
    "G2.add_edge('0','1')\n",
    "G2.add_edge('0','2')\n",
    "G2.add_edge('0','3')\n",
    "G2.add_edge('0','4')\n",
    "G2.add_edge('1','3')\n",
    "G2.add_edge('1','4')\n",
    "G2.add_edge('1','2')\n",
    "G2.add_edge('1','0')\n",
    "G2.add_edge('2','1')\n",
    "G2.add_edge('2','3')\n",
    "G2.add_edge('3','4')\n",
    "G2.add_edge('3','0')\n",
    "G2.add_edge('3','1')\n",
    "G2.add_edge('3','5')\n",
    "G2.add_edge('3','6')\n",
    "G2.add_edge('3','7')\n",
    "G2.add_edge('4','0')\n",
    "G2.add_edge('4','1')\n",
    "G2.add_edge('4','6')\n",
    "G2.add_edge('5','7')\n",
    "G2.add_edge('2','5')\n",
    "G2.add_edge('5','8')\n",
    "G2.add_edge('8','9')\n",
    "G2.add_edge('9','5')\n",
    "G2.add_edge('9','7')"
   ]
  },
  {
   "cell_type": "code",
   "execution_count": 9,
   "metadata": {},
   "outputs": [
    {
     "data": {
      "text/plain": [
       "defaultdict(list, {8: [9], 9: [5, 7], 5: [], 7: []})"
      ]
     },
     "execution_count": 9,
     "metadata": {},
     "output_type": "execute_result"
    }
   ],
   "source": [
    "G2.bfs('8')"
   ]
  }
 ],
 "metadata": {
  "kernelspec": {
   "display_name": "venv",
   "language": "python",
   "name": "python3"
  },
  "language_info": {
   "codemirror_mode": {
    "name": "ipython",
    "version": 3
   },
   "file_extension": ".py",
   "mimetype": "text/x-python",
   "name": "python",
   "nbconvert_exporter": "python",
   "pygments_lexer": "ipython3",
   "version": "3.12.3"
  }
 },
 "nbformat": 4,
 "nbformat_minor": 2
}
