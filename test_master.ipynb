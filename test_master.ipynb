{
 "cells": [
  {
   "cell_type": "code",
   "execution_count": 1,
   "metadata": {},
   "outputs": [],
   "source": [
    "from master import Master"
   ]
  },
  {
   "cell_type": "code",
   "execution_count": 2,
   "metadata": {},
   "outputs": [],
   "source": [
    "server = Master('0.0.0.0', 5000)\n",
    "\n",
    "# server.add_thread('192.168.18.17', 5001)\n",
    "server.add_thread('127.0.0.1', 5001)\n",
    "# server.add_thread('192.168.18.21', 5001)\n",
    "server.add_thread('127.0.0.1', 5002)\n",
    "# server.add_thread('127.0.0.1', 5005)\n",
    "# server.add_thread('127.0.0.1', 5007)\n"
   ]
  },
  {
   "cell_type": "code",
   "execution_count": 3,
   "metadata": {},
   "outputs": [],
   "source": [
    "# for i in range(10): server.add_node(str(i))\n",
    "\n",
    "with open('./twitter_combined.txt') as f:\n",
    "    for line in f:\n",
    "        u, v = line.strip().split()\n",
    "        server.add_node(u)\n",
    "        server.add_node(v)"
   ]
  },
  {
   "cell_type": "code",
   "execution_count": 4,
   "metadata": {},
   "outputs": [
    {
     "name": "stderr",
     "output_type": "stream",
     "text": [
      "2025-01-07 16:40:23,842 - root - INFO - Sending edges to ('127.0.0.1', 5001)\n",
      "2025-01-07 16:40:23,844 - root - INFO - Sending edges to ('127.0.0.1', 5002)\n"
     ]
    }
   ],
   "source": [
    "server.load_file('./twitter_combined.txt')"
   ]
  },
  {
   "cell_type": "code",
   "execution_count": 8,
   "metadata": {},
   "outputs": [
    {
     "name": "stdout",
     "output_type": "stream",
     "text": [
      "Time taken for BFS operation: 0.008743524551391602 seconds\n"
     ]
    }
   ],
   "source": [
    "import time\n",
    "\n",
    "start_time = time.time()\n",
    "# tree = server.bfs('116374117927631468606')\n",
    "tree = server.bfs('214328887')\n",
    "# tree = server.bfs('0')\n",
    "end_time = time.time()\n",
    "\n",
    "print(f\"Time taken for BFS operation: {end_time - start_time} seconds\")"
   ]
  },
  {
   "cell_type": "code",
   "execution_count": 10,
   "metadata": {},
   "outputs": [
    {
     "data": {
      "text/plain": [
       "defaultdict(list,\n",
       "            {0: [1, 2, 3, 4],\n",
       "             1: [],\n",
       "             2: [5],\n",
       "             3: [6, 7],\n",
       "             4: [],\n",
       "             5: [8],\n",
       "             6: [],\n",
       "             7: [],\n",
       "             8: [9],\n",
       "             9: []})"
      ]
     },
     "execution_count": 10,
     "metadata": {},
     "output_type": "execute_result"
    }
   ],
   "source": [
    "len(tree)"
   ]
  },
  {
   "cell_type": "code",
   "execution_count": 7,
   "metadata": {},
   "outputs": [],
   "source": [
    "# server.restart_threads()"
   ]
  }
 ],
 "metadata": {
  "kernelspec": {
   "display_name": "venv",
   "language": "python",
   "name": "python3"
  },
  "language_info": {
   "codemirror_mode": {
    "name": "ipython",
    "version": 3
   },
   "file_extension": ".py",
   "mimetype": "text/x-python",
   "name": "python",
   "nbconvert_exporter": "python",
   "pygments_lexer": "ipython3",
   "version": "3.12.3"
  }
 },
 "nbformat": 4,
 "nbformat_minor": 2
}
