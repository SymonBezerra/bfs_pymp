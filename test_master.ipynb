{
 "cells": [
  {
   "cell_type": "code",
   "execution_count": 1,
   "metadata": {},
   "outputs": [],
   "source": [
    "from master import Master"
   ]
  },
  {
   "cell_type": "code",
   "execution_count": 2,
   "metadata": {},
   "outputs": [],
   "source": [
    "server = Master('0.0.0.0', 5000)\n",
    "\n",
    "# server.add_thread('192.168.18.17', 5001)\n",
    "server.add_thread('127.0.0.1', 5001)\n",
    "server.add_thread('127.0.0.1', 5002)\n",
    "# server.add_thread('127.0.0.1', 5003)\n",
    "# server.add_thread('127.0.0.1', 5005)\n",
    "# server.add_thread('127.0.0.1', 5007)\n"
   ]
  },
  {
   "cell_type": "code",
   "execution_count": 3,
   "metadata": {},
   "outputs": [
    {
     "ename": "KeyboardInterrupt",
     "evalue": "",
     "output_type": "error",
     "traceback": [
      "\u001b[0;31m---------------------------------------------------------------------------\u001b[0m",
      "\u001b[0;31mKeyboardInterrupt\u001b[0m                         Traceback (most recent call last)",
      "Cell \u001b[0;32mIn[3], line 1\u001b[0m\n\u001b[0;32m----> 1\u001b[0m \u001b[43mserver\u001b[49m\u001b[38;5;241;43m.\u001b[39;49m\u001b[43mrestart_threads\u001b[49m\u001b[43m(\u001b[49m\u001b[43m)\u001b[49m\n",
      "File \u001b[0;32m~/Documents/pesquisa/bfs_dist/master.py:261\u001b[0m, in \u001b[0;36mMaster.restart_threads\u001b[0;34m(self)\u001b[0m\n\u001b[1;32m    259\u001b[0m socket \u001b[38;5;241m=\u001b[39m \u001b[38;5;28mself\u001b[39m\u001b[38;5;241m.\u001b[39mthreads[thread]\n\u001b[1;32m    260\u001b[0m socket\u001b[38;5;241m.\u001b[39msend(Message(\u001b[38;5;124mb\u001b[39m\u001b[38;5;124m'\u001b[39m\u001b[38;5;124mRESTART\u001b[39m\u001b[38;5;124m'\u001b[39m, \u001b[38;5;124mb\u001b[39m\u001b[38;5;124m'\u001b[39m\u001b[38;5;124m'\u001b[39m)\u001b[38;5;241m.\u001b[39mbuild())\n\u001b[0;32m--> 261\u001b[0m \u001b[43msocket\u001b[49m\u001b[38;5;241;43m.\u001b[39;49m\u001b[43mrecv\u001b[49m\u001b[43m(\u001b[49m\u001b[43m)\u001b[49m\n",
      "File \u001b[0;32m_zmq.py:1156\u001b[0m, in \u001b[0;36mzmq.backend.cython._zmq.Socket.recv\u001b[0;34m()\u001b[0m\n",
      "File \u001b[0;32m_zmq.py:1191\u001b[0m, in \u001b[0;36mzmq.backend.cython._zmq.Socket.recv\u001b[0;34m()\u001b[0m\n",
      "File \u001b[0;32m_zmq.py:1278\u001b[0m, in \u001b[0;36mzmq.backend.cython._zmq._recv_copy\u001b[0;34m()\u001b[0m\n",
      "File \u001b[0;32m_zmq.py:160\u001b[0m, in \u001b[0;36mzmq.backend.cython._zmq._check_rc\u001b[0;34m()\u001b[0m\n",
      "\u001b[0;31mKeyboardInterrupt\u001b[0m: "
     ]
    }
   ],
   "source": [
    "server.restart_threads()"
   ]
  },
  {
   "cell_type": "code",
   "execution_count": 4,
   "metadata": {},
   "outputs": [],
   "source": [
    "# for i in range(10): server.add_node(str(i))\n",
    "\n",
    "with open('./twitter_combined.txt') as f:\n",
    "    for line in f:\n",
    "        u, v = line.strip().split()\n",
    "        server.add_node(u)\n",
    "        server.add_node(v)"
   ]
  },
  {
   "cell_type": "code",
   "execution_count": null,
   "metadata": {},
   "outputs": [
    {
     "name": "stderr",
     "output_type": "stream",
     "text": [
      "2025-01-08 11:06:46,879 - root - INFO - Sending edges to ('127.0.0.1', 5001)\n",
      "2025-01-08 11:06:49,628 - root - INFO - Sending edges to ('127.0.0.1', 5003)\n",
      "2025-01-08 11:06:52,192 - root - INFO - Sending edges to ('127.0.0.1', 5005)\n"
     ]
    }
   ],
   "source": [
    "# import itertools\n",
    "# pairs = list(itertools.combinations(nodes, 2))\n",
    "# print(len(pairs))\n",
    "# for p in pairs: server.add_edge(*p)\n",
    "\n",
    "# server.add_edge('0', '1')\n",
    "# server.add_edge('0', '2')\n",
    "# server.add_edge('0', '3')\n",
    "# server.add_edge('0', '4')\n",
    "# server.add_edge('1', '3')\n",
    "# server.add_edge('1', '4')\n",
    "# server.add_edge('1', '2')\n",
    "# server.add_edge('1', '0')\n",
    "# server.add_edge('2', '1')\n",
    "# server.add_edge('2', '3')\n",
    "# server.add_edge('3', '4')\n",
    "# server.add_edge('3', '0')\n",
    "# server.add_edge('3', '1')\n",
    "# server.add_edge('3', '5')\n",
    "# server.add_edge('3', '6')\n",
    "# server.add_edge('3', '7')\n",
    "# server.add_edge('4', '0')\n",
    "# server.add_edge('4', '1')\n",
    "# server.add_edge('4', '6')\n",
    "# server.add_edge('5', '7')\n",
    "# server.add_edge('2', '5')\n",
    "# server.add_edge('5', '8')\n",
    "# server.add_edge('8', '9')\n",
    "# server.add_edge('9', '5')\n",
    "# server.add_edge('9', '7')\n",
    "\n",
    "server.load_file('./twitter_combined.txt')"
   ]
  },
  {
   "cell_type": "code",
   "execution_count": 7,
   "metadata": {},
   "outputs": [
    {
     "ename": "KeyboardInterrupt",
     "evalue": "",
     "output_type": "error",
     "traceback": [
      "\u001b[0;31m---------------------------------------------------------------------------\u001b[0m",
      "\u001b[0;31mKeyboardInterrupt\u001b[0m                         Traceback (most recent call last)",
      "Cell \u001b[0;32mIn[7], line 5\u001b[0m\n\u001b[1;32m      3\u001b[0m start_time \u001b[38;5;241m=\u001b[39m time\u001b[38;5;241m.\u001b[39mtime()\n\u001b[1;32m      4\u001b[0m \u001b[38;5;66;03m# tree = server.bfs('116374117927631468606')\u001b[39;00m\n\u001b[0;32m----> 5\u001b[0m tree \u001b[38;5;241m=\u001b[39m \u001b[43mserver\u001b[49m\u001b[38;5;241;43m.\u001b[39;49m\u001b[43mbfs\u001b[49m\u001b[43m(\u001b[49m\u001b[38;5;124;43m'\u001b[39;49m\u001b[38;5;124;43m214328887\u001b[39;49m\u001b[38;5;124;43m'\u001b[39;49m\u001b[43m)\u001b[49m\n\u001b[1;32m      6\u001b[0m \u001b[38;5;66;03m# tree = server.bfs('0')\u001b[39;00m\n\u001b[1;32m      7\u001b[0m end_time \u001b[38;5;241m=\u001b[39m time\u001b[38;5;241m.\u001b[39mtime()\n",
      "File \u001b[0;32m~/Documents/pesquisa/bfs_dist/master.py:233\u001b[0m, in \u001b[0;36mMaster.bfs\u001b[0;34m(self, node)\u001b[0m\n\u001b[1;32m    231\u001b[0m \u001b[38;5;28;01mfor\u001b[39;00m node_tuple \u001b[38;5;129;01min\u001b[39;00m new_nodes:\n\u001b[1;32m    232\u001b[0m     src, dest \u001b[38;5;241m=\u001b[39m node_tuple\u001b[38;5;241m.\u001b[39msplit(\u001b[38;5;124mb\u001b[39m\u001b[38;5;124m'\u001b[39m\u001b[38;5;124m,\u001b[39m\u001b[38;5;124m'\u001b[39m)\n\u001b[0;32m--> 233\u001b[0m     src_node, dest_node \u001b[38;5;241m=\u001b[39m Node(src), \u001b[43mNode\u001b[49m\u001b[43m(\u001b[49m\u001b[43mdest\u001b[49m\u001b[43m)\u001b[49m\n\u001b[1;32m    234\u001b[0m     \u001b[38;5;28;01mif\u001b[39;00m src_node \u001b[38;5;241m==\u001b[39m dest_node \u001b[38;5;129;01mand\u001b[39;00m src_node \u001b[38;5;129;01mnot\u001b[39;00m \u001b[38;5;129;01min\u001b[39;00m bfs_tree:\n\u001b[1;32m    235\u001b[0m         nodes\u001b[38;5;241m.\u001b[39mappend(src)\n",
      "File \u001b[0;32m~/Documents/pesquisa/bfs_dist/graph.py:2\u001b[0m, in \u001b[0;36mNode.__init__\u001b[0;34m(self, label, attr)\u001b[0m\n\u001b[1;32m      1\u001b[0m \u001b[38;5;28;01mclass\u001b[39;00m \u001b[38;5;21;01mNode\u001b[39;00m:\n\u001b[0;32m----> 2\u001b[0m     \u001b[38;5;28;01mdef\u001b[39;00m \u001b[38;5;21m__init__\u001b[39m(\u001b[38;5;28mself\u001b[39m, label: \u001b[38;5;28mbytes\u001b[39m, attr\u001b[38;5;241m=\u001b[39m\u001b[38;5;28mdict\u001b[39m()):\n\u001b[1;32m      3\u001b[0m         \u001b[38;5;28mself\u001b[39m\u001b[38;5;241m.\u001b[39mlabel \u001b[38;5;241m=\u001b[39m label\n\u001b[1;32m      4\u001b[0m         \u001b[38;5;28mself\u001b[39m\u001b[38;5;241m.\u001b[39mattr \u001b[38;5;241m=\u001b[39m attr\n",
      "\u001b[0;31mKeyboardInterrupt\u001b[0m: "
     ]
    }
   ],
   "source": [
    "import time\n",
    "\n",
    "start_time = time.time()\n",
    "# tree = server.bfs('116374117927631468606')\n",
    "tree = server.bfs('214328887')\n",
    "# tree = server.bfs('0')\n",
    "end_time = time.time()\n",
    "\n",
    "print(f\"Time taken for BFS operation: {end_time - start_time} seconds\")\n",
    "len(tree)"
   ]
  }
 ],
 "metadata": {
  "kernelspec": {
   "display_name": "venv",
   "language": "python",
   "name": "python3"
  },
  "language_info": {
   "codemirror_mode": {
    "name": "ipython",
    "version": 3
   },
   "file_extension": ".py",
   "mimetype": "text/x-python",
   "name": "python",
   "nbconvert_exporter": "python",
   "pygments_lexer": "ipython3",
   "version": "3.12.3"
  }
 },
 "nbformat": 4,
 "nbformat_minor": 2
}
