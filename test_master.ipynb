{
 "cells": [
  {
   "cell_type": "code",
   "execution_count": 1,
   "metadata": {},
   "outputs": [],
   "source": [
    "from master import Master"
   ]
  },
  {
   "cell_type": "code",
   "execution_count": 2,
   "metadata": {},
   "outputs": [],
   "source": [
    "server = Master('0.0.0.0', 5004)\n",
    "\n",
    "# server.add_thread('192.168.18.21', 5000)\n",
    "# server.add_thread('192.168.18.21', 5004)\n",
    "server.add_thread('127.0.0.1', 5000)\n",
    "server.add_thread('127.0.0.1', 5005)\n",
    "# server.add_thread('127.0.0.1', 5000)\n",
    "# server.add_thread('127.0.0.1', 5001)"
   ]
  },
  {
   "cell_type": "code",
   "execution_count": 3,
   "metadata": {},
   "outputs": [],
   "source": [
    "# nodes = [str(i) for i in range(10)]\n",
    "# for n in nodes: \n",
    "#     server.add_node(n)\n",
    "    \n",
    "\n",
    "for i in range(10): server.add_node(str(i))\n",
    "with open('./facebook_combined.txt') as f:\n",
    "    for line in f:\n",
    "        u, v = line.strip().split()\n",
    "        server.add_node(u)\n",
    "        server.add_node(v)"
   ]
  },
  {
   "cell_type": "code",
   "execution_count": 4,
   "metadata": {},
   "outputs": [],
   "source": [
    "# import itertools\n",
    "# pairs = list(itertools.combinations(nodes, 2))\n",
    "# print(len(pairs))\n",
    "# for p in pairs: server.add_edge(*p)\n",
    "\n",
    "# server.add_edge('0', '1')\n",
    "# server.add_edge('0', '2')\n",
    "# server.add_edge('0', '3')\n",
    "# server.add_edge('0', '4')\n",
    "# server.add_edge('1', '3')\n",
    "# server.add_edge('1', '4')\n",
    "# server.add_edge('1', '2')\n",
    "# server.add_edge('1', '0')214328887\n",
    "# server.add_edge('2', '1')\n",
    "# server.add_edge('2', '3')\n",
    "# server.add_edge('3', '4')\n",
    "# server.add_edge('3', '0')\n",
    "# server.add_edge('3', '1')\n",
    "# server.add_edge('3', '5')\n",
    "# server.add_edge('3', '6')\n",
    "# server.add_edge('3', '7')\n",
    "# server.add_edge('4', '0')\n",
    "# server.add_edge('4', '1')\n",
    "# server.add_edge('4', '6')\n",
    "# server.add_edge('5', '7')\n",
    "# server.add_edge('2', '5')\n",
    "# server.add_edge('5', '8')\n",
    "# server.add_edge('8', '9')\n",
    "# server.add_edge('9', '5')\n",
    "# server.add_edge('9', '7')\n",
    "\n",
    "server.load_file('./facebook_combined.txt')"
   ]
  },
  {
   "cell_type": "code",
   "execution_count": null,
   "metadata": {},
   "outputs": [
    {
     "ename": "TypeError",
     "evalue": "sendto(): AF_INET address must be tuple, not NoneType",
     "output_type": "error",
     "traceback": [
      "\u001b[0;31m---------------------------------------------------------------------------\u001b[0m",
      "\u001b[0;31mTypeError\u001b[0m                                 Traceback (most recent call last)",
      "Cell \u001b[0;32mIn[5], line 4\u001b[0m\n\u001b[1;32m      1\u001b[0m \u001b[38;5;28;01mimport\u001b[39;00m \u001b[38;5;21;01mtime\u001b[39;00m\n\u001b[1;32m      3\u001b[0m start_time \u001b[38;5;241m=\u001b[39m time\u001b[38;5;241m.\u001b[39mtime()\n\u001b[0;32m----> 4\u001b[0m tree \u001b[38;5;241m=\u001b[39m \u001b[43mserver\u001b[49m\u001b[38;5;241;43m.\u001b[39;49m\u001b[43mbfs\u001b[49m\u001b[43m(\u001b[49m\u001b[38;5;124;43m'\u001b[39;49m\u001b[38;5;124;43m214328887\u001b[39;49m\u001b[38;5;124;43m'\u001b[39;49m\u001b[43m)\u001b[49m\n\u001b[1;32m      5\u001b[0m end_time \u001b[38;5;241m=\u001b[39m time\u001b[38;5;241m.\u001b[39mtime()\n\u001b[1;32m      7\u001b[0m \u001b[38;5;28mprint\u001b[39m(\u001b[38;5;124mf\u001b[39m\u001b[38;5;124m\"\u001b[39m\u001b[38;5;124mTime taken for BFS operation: \u001b[39m\u001b[38;5;132;01m{\u001b[39;00mend_time\u001b[38;5;250m \u001b[39m\u001b[38;5;241m-\u001b[39m\u001b[38;5;250m \u001b[39mstart_time\u001b[38;5;132;01m}\u001b[39;00m\u001b[38;5;124m seconds\u001b[39m\u001b[38;5;124m\"\u001b[39m)\n",
      "File \u001b[0;32m~/Documents/pesquisa/bfs_dist/master.py:217\u001b[0m, in \u001b[0;36mMaster.bfs\u001b[0;34m(self, root)\u001b[0m\n\u001b[1;32m    215\u001b[0m \u001b[38;5;28;01mwhile\u001b[39;00m nodes:\n\u001b[1;32m    216\u001b[0m     current \u001b[38;5;241m=\u001b[39m nodes\u001b[38;5;241m.\u001b[39mpopleft()\n\u001b[0;32m--> 217\u001b[0m     \u001b[38;5;28;43mself\u001b[39;49m\u001b[38;5;241;43m.\u001b[39;49m\u001b[43msocket\u001b[49m\u001b[38;5;241;43m.\u001b[39;49m\u001b[43msendto\u001b[49m\u001b[43m(\u001b[49m\u001b[43mMessage\u001b[49m\u001b[43m(\u001b[49m\u001b[38;5;124;43mb\u001b[39;49m\u001b[38;5;124;43m'\u001b[39;49m\u001b[38;5;124;43mBFS\u001b[39;49m\u001b[38;5;124;43m'\u001b[39;49m\u001b[43m,\u001b[49m\u001b[43m \u001b[49m\u001b[43mcurrent\u001b[49m\u001b[43m)\u001b[49m\u001b[38;5;241;43m.\u001b[39;49m\u001b[43mbuild\u001b[49m\u001b[43m(\u001b[49m\u001b[43m)\u001b[49m\u001b[43m,\u001b[49m\u001b[43m \u001b[49m\u001b[38;5;28;43mself\u001b[39;49m\u001b[38;5;241;43m.\u001b[39;49m\u001b[43mnodes\u001b[49m\u001b[43m[\u001b[49m\u001b[43mcurrent\u001b[49m\u001b[43m]\u001b[49m\u001b[43m)\u001b[49m\n\u001b[1;32m    218\u001b[0m     \u001b[38;5;28;01mwhile\u001b[39;00m \u001b[38;5;28;01mTrue\u001b[39;00m:\n\u001b[1;32m    219\u001b[0m         msg, addr \u001b[38;5;241m=\u001b[39m \u001b[38;5;28mself\u001b[39m\u001b[38;5;241m.\u001b[39mrecv(\u001b[38;5;241m65507\u001b[39m)\n",
      "\u001b[0;31mTypeError\u001b[0m: sendto(): AF_INET address must be tuple, not NoneType"
     ]
    }
   ],
   "source": [
    "import time\n",
    "\n",
    "start_time = time.time()\n",
    "tree = server.bfs('0')\n",
    "end_time = time.time()\n",
    "\n",
    "print(f\"Time taken for BFS operation: {end_time - start_time} seconds\")\n",
    "tree"
   ]
  },
  {
   "cell_type": "code",
   "execution_count": 6,
   "metadata": {},
   "outputs": [],
   "source": [
    "server.get_edges('0', bfs=True)"
   ]
  },
  {
   "cell_type": "code",
   "execution_count": null,
   "metadata": {},
   "outputs": [],
   "source": []
  }
 ],
 "metadata": {
  "kernelspec": {
   "display_name": "venv",
   "language": "python",
   "name": "python3"
  },
  "language_info": {
   "codemirror_mode": {
    "name": "ipython",
    "version": 3
   },
   "file_extension": ".py",
   "mimetype": "text/x-python",
   "name": "python",
   "nbconvert_exporter": "python",
   "pygments_lexer": "ipython3",
   "version": "3.12.3"
  }
 },
 "nbformat": 4,
 "nbformat_minor": 2
}
