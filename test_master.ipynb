{
 "cells": [
  {
   "cell_type": "code",
   "execution_count": 1,
   "metadata": {},
   "outputs": [],
   "source": [
    "from master import Master"
   ]
  },
  {
   "cell_type": "code",
   "execution_count": 2,
   "metadata": {},
   "outputs": [],
   "source": [
    "server = Master('127.0.0.1', 5000)\n",
    "server.add_thread('127.0.0.1', 5002)\n",
    "server.add_thread('127.0.0.1', 5003)"
   ]
  },
  {
   "cell_type": "code",
   "execution_count": 3,
   "metadata": {},
   "outputs": [],
   "source": [
    "nodes = [str(i) for i in range(4039)]\n",
    "for n in nodes: server.add_node(n)\n",
    "\n",
    "# for i in range(10): server.add_node(str(i))"
   ]
  },
  {
   "cell_type": "code",
   "execution_count": 4,
   "metadata": {},
   "outputs": [
    {
     "data": {
      "text/plain": [
       "<message.Message at 0x79c1ec2dc530>"
      ]
     },
     "execution_count": 4,
     "metadata": {},
     "output_type": "execute_result"
    }
   ],
   "source": [
    "# import itertools\n",
    "# pairs = list(itertools.combinations(nodes, 2))\n",
    "# print(len(pairs))\n",
    "# for p in pairs: server.add_edge(*p)\n",
    "\n",
    "server.add_edge('0', '1')\n",
    "server.add_edge('0', '2')\n",
    "server.add_edge('0', '3')\n",
    "server.add_edge('0', '4')\n",
    "server.add_edge('1', '3')\n",
    "server.add_edge('1', '4')\n",
    "server.add_edge('1', '2')\n",
    "server.add_edge('1', '0')\n",
    "server.add_edge('2', '1')\n",
    "server.add_edge('2', '3')\n",
    "server.add_edge('3', '4')\n",
    "server.add_edge('3', '0')\n",
    "server.add_edge('3', '1')\n",
    "server.add_edge('3', '5')\n",
    "server.add_edge('3', '6')\n",
    "server.add_edge('3', '7')\n",
    "server.add_edge('4', '0')\n",
    "server.add_edge('4', '1')\n",
    "server.add_edge('4', '6')\n",
    "server.add_edge('5', '7')\n",
    "server.add_edge('2', '5')\n",
    "server.add_edge('5', '8')\n",
    "server.add_edge('8', '9')\n",
    "server.add_edge('9', '5')\n",
    "server.add_edge('9', '7')\n",
    "\n",
    "# with open('./facebook_combined.txt', 'r') as file:\n",
    "#     for line in file:\n",
    "#         node1, node2 = line.strip().split()\n",
    "#         print(node1, node2)\n",
    "#         server.add_edge(node1, node2)"
   ]
  },
  {
   "cell_type": "code",
   "execution_count": 5,
   "metadata": {},
   "outputs": [],
   "source": [
    "# server.add_edge('1', '6')"
   ]
  },
  {
   "cell_type": "code",
   "execution_count": 6,
   "metadata": {},
   "outputs": [
    {
     "name": "stdout",
     "output_type": "stream",
     "text": [
      "Time taken for BFS operation: 0.0011591911315917969 seconds\n"
     ]
    },
    {
     "data": {
      "text/plain": [
       "{0: [1, 2, 3, 4], 1: [], 2: [], 3: [], 4: []}"
      ]
     },
     "execution_count": 6,
     "metadata": {},
     "output_type": "execute_result"
    }
   ],
   "source": [
    "import time\n",
    "from graph import Node\n",
    "\n",
    "start_time = time.time()\n",
    "tree = server.bfs('0')\n",
    "end_time = time.time()\n",
    "\n",
    "print(f\"Time taken for BFS operation: {end_time - start_time} seconds\")\n",
    "tree"
   ]
  },
  {
   "cell_type": "code",
   "execution_count": 7,
   "metadata": {},
   "outputs": [],
   "source": [
    "server.get_edges('1')"
   ]
  }
 ],
 "metadata": {
  "kernelspec": {
   "display_name": "venv",
   "language": "python",
   "name": "python3"
  },
  "language_info": {
   "codemirror_mode": {
    "name": "ipython",
    "version": 3
   },
   "file_extension": ".py",
   "mimetype": "text/x-python",
   "name": "python",
   "nbconvert_exporter": "python",
   "pygments_lexer": "ipython3",
   "version": "3.12.3"
  }
 },
 "nbformat": 4,
 "nbformat_minor": 2
}
